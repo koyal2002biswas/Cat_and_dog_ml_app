{
 "cells": [
  {
   "cell_type": "code",
   "execution_count": 2,
   "id": "85ba8432",
   "metadata": {},
   "outputs": [],
   "source": [
    "from tensorflow.keras.models import load_model\n",
    "model=load_model('cats_dogs.h5')\n",
    "import os\n",
    "import numpy as np\n",
    "import matplotlib.pyplot as plt\n",
    "import tensorflow as tf"
   ]
  },
  {
   "cell_type": "code",
   "execution_count": 1,
   "id": "5a0fd3a7",
   "metadata": {},
   "outputs": [],
   "source": [
    "from keras.preprocessing import image"
   ]
  },
  {
   "cell_type": "code",
   "execution_count": 3,
   "id": "47148260",
   "metadata": {},
   "outputs": [
    {
     "name": "stdout",
     "output_type": "stream",
     "text": [
      " * Serving Flask app \"__main__\" (lazy loading)\n",
      " * Environment: production\n",
      "\u001b[31m   WARNING: This is a development server. Do not use it in a production deployment.\u001b[0m\n",
      "\u001b[2m   Use a production WSGI server instead.\u001b[0m\n",
      " * Debug mode: off\n"
     ]
    },
    {
     "name": "stderr",
     "output_type": "stream",
     "text": [
      " * Running on http://127.0.0.1:5000/ (Press CTRL+C to quit)\n",
      "127.0.0.1 - - [27/Feb/2023 02:33:18] \"GET / HTTP/1.1\" 200 -\n",
      "127.0.0.1 - - [27/Feb/2023 02:34:06] \"POST /submit HTTP/1.1\" 200 -\n"
     ]
    }
   ],
   "source": [
    "from flask import *\n",
    "app=Flask(__name__)\n",
    "\n",
    "@app.route('/')\n",
    "def hello():\n",
    "    return render_template('home.html')\n",
    "@app.route('/submit', methods=['GET','POST'])\n",
    "def submit():\n",
    "    if request.method=='POST':\n",
    "        f=request.files['file']\n",
    "        img=f.filename\n",
    "        path='static/'+f.filename\n",
    "        f.save(path)\n",
    "        frame=image.load_img(path)\n",
    "        frame=image.img_to_array(frame)\n",
    "        frame.resize(256,256,3)\n",
    "        frame=tf.expand_dims(frame,axis=0)\n",
    "\n",
    "\n",
    "        result=model.predict(frame)\n",
    "        if np.argmax(result)==0:\n",
    "            text=\"CAT\"\n",
    "        elif np.argmax(result)==1:\n",
    "            text=\"DOG\"\n",
    "#         return text\n",
    "#         return \"success\"\n",
    "        return render_template(\"predict.html\", txt=text, img=path)\n",
    "\n",
    "\n",
    "app.run()"
   ]
  },
  {
   "cell_type": "code",
   "execution_count": null,
   "id": "06e3ae37",
   "metadata": {},
   "outputs": [],
   "source": [
    "%%HTML\n",
    "<img src=\"..\\static\\cat3.jpg\" alt=\"not found\">"
   ]
  },
  {
   "cell_type": "code",
   "execution_count": 23,
   "id": "ccecddea",
   "metadata": {},
   "outputs": [
    {
     "name": "stdout",
     "output_type": "stream",
     "text": [
      " * Serving Flask app \"__main__\" (lazy loading)\n",
      " * Environment: production\n",
      "\u001b[31m   WARNING: This is a development server. Do not use it in a production deployment.\u001b[0m\n",
      "\u001b[2m   Use a production WSGI server instead.\u001b[0m\n",
      " * Debug mode: off\n"
     ]
    },
    {
     "name": "stderr",
     "output_type": "stream",
     "text": [
      " * Running on http://127.0.0.1:5000/ (Press CTRL+C to quit)\n",
      "127.0.0.1 - - [16/Feb/2023 13:39:59] \"GET / HTTP/1.1\" 200 -\n",
      "127.0.0.1 - - [16/Feb/2023 13:40:36] \"POST /submit HTTP/1.1\" 404 -\n"
     ]
    }
   ],
   "source": [
    "from flask import *\n",
    "app=Flask(__name__)\n",
    "\n",
    "@app.route('/')\n",
    "def home():\n",
    "#     return \"hello\"\n",
    "    return render_template('home.html')\n",
    "\n",
    "app.run()"
   ]
  },
  {
   "cell_type": "code",
   "execution_count": null,
   "id": "e4d846b7",
   "metadata": {},
   "outputs": [],
   "source": []
  }
 ],
 "metadata": {
  "kernelspec": {
   "display_name": "Python 3 (ipykernel)",
   "language": "python",
   "name": "python3"
  },
  "language_info": {
   "codemirror_mode": {
    "name": "ipython",
    "version": 3
   },
   "file_extension": ".py",
   "mimetype": "text/x-python",
   "name": "python",
   "nbconvert_exporter": "python",
   "pygments_lexer": "ipython3",
   "version": "3.9.12"
  },
  "vscode": {
   "interpreter": {
    "hash": "35c8a61191ca5619fb18c2125edbd8729227791d4d2439570980029dbd73c579"
   }
  }
 },
 "nbformat": 4,
 "nbformat_minor": 5
}
